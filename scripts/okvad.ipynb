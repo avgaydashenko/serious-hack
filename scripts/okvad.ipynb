{
 "cells": [
  {
   "cell_type": "code",
   "execution_count": 1,
   "metadata": {},
   "outputs": [],
   "source": [
    "import pandas as pd\n",
    "import numpy as np\n",
    "import seaborn as sns\n",
    "\n",
    "%matplotlib inline"
   ]
  },
  {
   "cell_type": "code",
   "execution_count": 45,
   "metadata": {},
   "outputs": [
    {
     "name": "stderr",
     "output_type": "stream",
     "text": [
      "/usr/local/Cellar/anaconda3/lib/python3.6/site-packages/IPython/core/interactiveshell.py:2698: DtypeWarning: Columns (12) have mixed types. Specify dtype option on import or set low_memory=False.\n",
      "  interactivity=interactivity, compiler=compiler, result=result)\n"
     ]
    }
   ],
   "source": [
    "test = pd.read_csv('test.csv')\n",
    "train = pd.read_csv('train.csv')"
   ]
  },
  {
   "cell_type": "code",
   "execution_count": 46,
   "metadata": {},
   "outputs": [
    {
     "data": {
      "text/html": [
       "<div>\n",
       "<style scoped>\n",
       "    .dataframe tbody tr th:only-of-type {\n",
       "        vertical-align: middle;\n",
       "    }\n",
       "\n",
       "    .dataframe tbody tr th {\n",
       "        vertical-align: top;\n",
       "    }\n",
       "\n",
       "    .dataframe thead th {\n",
       "        text-align: right;\n",
       "    }\n",
       "</style>\n",
       "<table border=\"1\" class=\"dataframe\">\n",
       "  <thead>\n",
       "    <tr style=\"text-align: right;\">\n",
       "      <th></th>\n",
       "      <th>set</th>\n",
       "      <th>region</th>\n",
       "      <th>company_type</th>\n",
       "      <th>company_name</th>\n",
       "      <th>ogrn</th>\n",
       "      <th>inn</th>\n",
       "      <th>incorporation_year</th>\n",
       "      <th>okved_osn_code</th>\n",
       "      <th>okved_osn_name</th>\n",
       "      <th>init_equities</th>\n",
       "      <th>...</th>\n",
       "      <th>kladr</th>\n",
       "      <th>kpp</th>\n",
       "      <th>type_nasel_punkt</th>\n",
       "      <th>name_nasel_punkt</th>\n",
       "      <th>index</th>\n",
       "      <th>street</th>\n",
       "      <th>house</th>\n",
       "      <th>building</th>\n",
       "      <th>apartment</th>\n",
       "      <th>risk_category</th>\n",
       "    </tr>\n",
       "  </thead>\n",
       "  <tbody>\n",
       "    <tr>\n",
       "      <th>0</th>\n",
       "      <td>test</td>\n",
       "      <td>adygea</td>\n",
       "      <td>юридическое лицо</td>\n",
       "      <td>муниципальное предприятие \"жилищно-коммунально...</td>\n",
       "      <td>1070107001800</td>\n",
       "      <td>107013764</td>\n",
       "      <td>2007.0</td>\n",
       "      <td>35.30.14</td>\n",
       "      <td>производство пара и горячей воды (тепловой эне...</td>\n",
       "      <td>250000.0</td>\n",
       "      <td>...</td>\n",
       "      <td>1.006000e+13</td>\n",
       "      <td>10701001.0</td>\n",
       "      <td>поселок городского типа</td>\n",
       "      <td>тлюстенхабль</td>\n",
       "      <td>385228.0</td>\n",
       "      <td>улица кубанская</td>\n",
       "      <td>10</td>\n",
       "      <td>NaN</td>\n",
       "      <td>NaN</td>\n",
       "      <td>NaN</td>\n",
       "    </tr>\n",
       "    <tr>\n",
       "      <th>1</th>\n",
       "      <td>test</td>\n",
       "      <td>adygea</td>\n",
       "      <td>юридическое лицо</td>\n",
       "      <td>публичное акционерное общество \"майкопский ста...</td>\n",
       "      <td>1020100698144</td>\n",
       "      <td>105005101</td>\n",
       "      <td>1999.0</td>\n",
       "      <td>28.41</td>\n",
       "      <td>производство металлообрабатывающего оборудования</td>\n",
       "      <td>NaN</td>\n",
       "      <td>...</td>\n",
       "      <td>1.000001e+13</td>\n",
       "      <td>10501001.0</td>\n",
       "      <td>город</td>\n",
       "      <td>майкоп</td>\n",
       "      <td>385000.0</td>\n",
       "      <td>улица некрасова</td>\n",
       "      <td>293</td>\n",
       "      <td>NaN</td>\n",
       "      <td>NaN</td>\n",
       "      <td>NaN</td>\n",
       "    </tr>\n",
       "  </tbody>\n",
       "</table>\n",
       "<p>2 rows × 31 columns</p>\n",
       "</div>"
      ],
      "text/plain": [
       "    set  region      company_type  \\\n",
       "0  test  adygea  юридическое лицо   \n",
       "1  test  adygea  юридическое лицо   \n",
       "\n",
       "                                        company_name           ogrn  \\\n",
       "0  муниципальное предприятие \"жилищно-коммунально...  1070107001800   \n",
       "1  публичное акционерное общество \"майкопский ста...  1020100698144   \n",
       "\n",
       "         inn  incorporation_year okved_osn_code  \\\n",
       "0  107013764              2007.0       35.30.14   \n",
       "1  105005101              1999.0          28.41   \n",
       "\n",
       "                                      okved_osn_name  init_equities  \\\n",
       "0  производство пара и горячей воды (тепловой эне...       250000.0   \n",
       "1   производство металлообрабатывающего оборудования            NaN   \n",
       "\n",
       "       ...               kladr         kpp         type_nasel_punkt  \\\n",
       "0      ...        1.006000e+13  10701001.0  поселок городского типа   \n",
       "1      ...        1.000001e+13  10501001.0                    город   \n",
       "\n",
       "  name_nasel_punkt     index           street house building apartment  \\\n",
       "0     тлюстенхабль  385228.0  улица кубанская    10      NaN       NaN   \n",
       "1           майкоп  385000.0  улица некрасова   293      NaN       NaN   \n",
       "\n",
       "   risk_category  \n",
       "0            NaN  \n",
       "1            NaN  \n",
       "\n",
       "[2 rows x 31 columns]"
      ]
     },
     "execution_count": 46,
     "metadata": {},
     "output_type": "execute_result"
    }
   ],
   "source": [
    "test.head(2)"
   ]
  },
  {
   "cell_type": "code",
   "execution_count": 47,
   "metadata": {},
   "outputs": [
    {
     "data": {
      "text/plain": [
       "Index(['set', 'region', 'company_type', 'company_name', 'ogrn', 'inn',\n",
       "       'incorporation_year', 'okved_osn_code', 'okved_osn_name',\n",
       "       'init_equities', 'init_equity_types', 'purpose',\n",
       "       'other_reasons_for_check', 'check_date', 'day_length', 'hour_length',\n",
       "       'type', 'agency', 'joint_agency', 'oktmo', 'okato', 'kladr', 'kpp',\n",
       "       'type_nasel_punkt', 'name_nasel_punkt', 'index', 'street', 'house',\n",
       "       'building', 'apartment', 'risk_category'],\n",
       "      dtype='object')"
      ]
     },
     "execution_count": 47,
     "metadata": {},
     "output_type": "execute_result"
    }
   ],
   "source": [
    "test.columns"
   ]
  },
  {
   "cell_type": "code",
   "execution_count": 48,
   "metadata": {},
   "outputs": [
    {
     "data": {
      "text/plain": [
       "Index(['set', 'region', 'company_type', 'company_name', 'ogrn', 'inn',\n",
       "       'incorporation_year', 'okved_osn_code', 'okved_osn_name',\n",
       "       'init_equities', 'init_equity_types', 'purpose',\n",
       "       'other_reasons_for_check', 'check_date', 'day_length', 'hour_length',\n",
       "       'type', 'agency', 'joint_agency', 'oktmo', 'okato', 'kladr', 'kpp',\n",
       "       'type_nasel_punkt', 'name_nasel_punkt', 'index', 'street', 'house',\n",
       "       'building', 'apartment', 'risk_category'],\n",
       "      dtype='object')"
      ]
     },
     "execution_count": 48,
     "metadata": {},
     "output_type": "execute_result"
    }
   ],
   "source": [
    "train.columns"
   ]
  },
  {
   "cell_type": "code",
   "execution_count": 49,
   "metadata": {},
   "outputs": [],
   "source": [
    "columns_to_drop = ['set', 'day_length', 'hour_length', 'agency', 'joint_agency', 'okved_osn_name',\n",
    "                    'house', 'street', 'building', 'apartment', 'ogrn', 'oktmo', 'okato', 'kladr']"
   ]
  },
  {
   "cell_type": "code",
   "execution_count": 50,
   "metadata": {},
   "outputs": [],
   "source": [
    "test = test.drop(columns=columns_to_drop)\n",
    "train = train.drop(columns=columns_to_drop)"
   ]
  },
  {
   "cell_type": "code",
   "execution_count": 53,
   "metadata": {},
   "outputs": [
    {
     "name": "stderr",
     "output_type": "stream",
     "text": [
      "/usr/local/Cellar/anaconda3/lib/python3.6/site-packages/ipykernel_launcher.py:1: SettingWithCopyWarning: \n",
      "A value is trying to be set on a copy of a slice from a DataFrame\n",
      "\n",
      "See the caveats in the documentation: http://pandas.pydata.org/pandas-docs/stable/indexing.html#indexing-view-versus-copy\n",
      "  \"\"\"Entry point for launching an IPython kernel.\n"
     ]
    }
   ],
   "source": [
    "test['okved_osn_code'][~test['okved_osn_code'].isnull()] = test['okved_osn_code'][~test['okved_osn_code'].isnull()].apply(lambda x: x.split('.')[0])"
   ]
  },
  {
   "cell_type": "code",
   "execution_count": 56,
   "metadata": {},
   "outputs": [
    {
     "name": "stderr",
     "output_type": "stream",
     "text": [
      "/usr/local/Cellar/anaconda3/lib/python3.6/site-packages/ipykernel_launcher.py:1: SettingWithCopyWarning: \n",
      "A value is trying to be set on a copy of a slice from a DataFrame\n",
      "\n",
      "See the caveats in the documentation: http://pandas.pydata.org/pandas-docs/stable/indexing.html#indexing-view-versus-copy\n",
      "  \"\"\"Entry point for launching an IPython kernel.\n"
     ]
    }
   ],
   "source": [
    "train['okved_osn_code'][~train['okved_osn_code'].isnull()] = train['okved_osn_code'][~train['okved_osn_code'].isnull()].apply(lambda x: x.split('.')[0])"
   ]
  },
  {
   "cell_type": "code",
   "execution_count": 57,
   "metadata": {},
   "outputs": [
    {
     "data": {
      "text/plain": [
       "85     30815\n",
       "86      8917\n",
       "68      4419\n",
       "47      2498\n",
       "01      1506\n",
       "35      1385\n",
       "46      1245\n",
       "91      1234\n",
       "87      1127\n",
       "10      1009\n",
       "84       878\n",
       "55       750\n",
       "56       745\n",
       "36       703\n",
       "NaN      672\n",
       "93       559\n",
       "49       538\n",
       "52       523\n",
       "25       463\n",
       "88       444\n",
       "23       420\n",
       "94       407\n",
       "41       367\n",
       "08       350\n",
       "64       339\n",
       "72       290\n",
       "90       285\n",
       "20       263\n",
       "33       259\n",
       "80       251\n",
       "       ...  \n",
       "29        95\n",
       "13        92\n",
       "63        77\n",
       "19        76\n",
       "58        73\n",
       "69        70\n",
       "37        67\n",
       "09        65\n",
       "70        58\n",
       "17        51\n",
       "21        48\n",
       "15        44\n",
       "78        42\n",
       "65        38\n",
       "79        37\n",
       "50        36\n",
       "62        29\n",
       "03        26\n",
       "60        20\n",
       "51        19\n",
       "05        16\n",
       "74        16\n",
       "92        12\n",
       "77         9\n",
       "12         8\n",
       "73         7\n",
       "95         7\n",
       "66         6\n",
       "40         4\n",
       "97         1\n",
       "Name: okved_osn_code, Length: 87, dtype: int64"
      ]
     },
     "execution_count": 57,
     "metadata": {},
     "output_type": "execute_result"
    }
   ],
   "source": [
    "train['okved_osn_code'].value_counts(dropna=False)"
   ]
  },
  {
   "cell_type": "code",
   "execution_count": 60,
   "metadata": {},
   "outputs": [],
   "source": [
    "test.to_csv('test.csv', index=False)"
   ]
  },
  {
   "cell_type": "code",
   "execution_count": 61,
   "metadata": {},
   "outputs": [],
   "source": [
    "train.to_csv('train.csv', index=False)"
   ]
  },
  {
   "cell_type": "code",
   "execution_count": null,
   "metadata": {},
   "outputs": [],
   "source": []
  }
 ],
 "metadata": {
  "kernelspec": {
   "display_name": "Python 3",
   "language": "python",
   "name": "python3"
  },
  "language_info": {
   "codemirror_mode": {
    "name": "ipython",
    "version": 3
   },
   "file_extension": ".py",
   "mimetype": "text/x-python",
   "name": "python",
   "nbconvert_exporter": "python",
   "pygments_lexer": "ipython3",
   "version": "3.6.3"
  }
 },
 "nbformat": 4,
 "nbformat_minor": 2
}
